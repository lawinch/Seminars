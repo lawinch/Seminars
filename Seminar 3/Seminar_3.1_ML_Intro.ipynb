{
 "cells": [
  {
   "cell_type": "markdown",
   "metadata": {},
   "source": [
    " # AI Community @ Семинар  № 3\n",
    " ## Введение в машинное обучение\n",
    "Суть: Мы знаем какую-то характеристику объектов, надо научиться узнавать эту же характеристику для похожих объектов  \n",
    " ### Строгая формулировка\n",
    " Дано: множество объектов $O$   \n",
    " Каждый объект имеет множество определяющих переменных (known characteristics) $x \\in X$ и определяемых переменных (predicted characteristics) $y \\in Y$\n",
    " \n",
    " $o \\in O \\to (x,y)$\n",
    " \n",
    " Задача: найти функцию, наиболее точно приближающую $X \\to Y$\n",
    " \n",
    " Классификация - если $Y$ конечно  \n",
    " Регрессия - если $Y = \\mathbb{R} $ \n",
    " \n",
    " ### Supervised и unsupervised learning\n",
    " Supervised - есть какой-то набор данных, для которого известны и $x$, и $y$  \n",
    " Unsupervised - $y$ неизвестно для всех данных\n",
    " \n",
    " #### Примеры:\n",
    " Superised:\n",
    " <img src=\"./data/Regression_Analysis_Linear.gif\" alt=\"Drawing\" style=\"height: 400px;\"/>\n",
    " \n",
    " Unsupervised\n",
    " ![Clustering](./data/xclara-clusters-colour.png)\n",
    " \n",
    " ### Стандартная процедура для supervised learning\n",
    " 1. Разбить выборку на train и test\n",
    " 2. Выбрать метод\n",
    " 3. Обучить его на train\n",
    " 4. Посмотреть, что он предсказывает для test\n",
    " 5. Сравнить с истинными значениями для test"
   ]
  },
  {
   "cell_type": "markdown",
   "metadata": {},
   "source": [
    "Шаблон алгоритма:"
   ]
  },
  {
   "cell_type": "markdown",
   "metadata": {},
   "source": [
    "    train_x, test_x, train_y, test_y = extract(data)\n",
    "    predictor = MySuperPredictor()\n",
    "    predictor.fit(train_x, train_y)\n",
    "    preds = predictor.predict(test_x)\n",
    "    score = compare(preds, test_y)"
   ]
  },
  {
   "cell_type": "markdown",
   "metadata": {},
   "source": [
    " ### Case study\n",
    " Распознавание рукописных цифр\n",
    " \n",
    " http://yann.lecun.com/exdb/mnist/"
   ]
  },
  {
   "cell_type": "code",
   "execution_count": 19,
   "metadata": {
    "collapsed": true
   },
   "outputs": [],
   "source": [
    "import matplotlib.pyplot as plt\n",
    "%matplotlib inline\n",
    "from sklearn import datasets\n",
    "import numpy as np"
   ]
  },
  {
   "cell_type": "code",
   "execution_count": 34,
   "metadata": {
    "collapsed": false
   },
   "outputs": [
    {
     "ename": "AttributeError",
     "evalue": "shape",
     "output_type": "error",
     "traceback": [
      "\u001b[0;31m---------------------------------------------------------------------------\u001b[0m",
      "\u001b[0;31mKeyError\u001b[0m                                  Traceback (most recent call last)",
      "\u001b[0;32m/opt/anaconda/lib/python3.6/site-packages/sklearn/utils/__init__.py\u001b[0m in \u001b[0;36m__getattr__\u001b[0;34m(self, key)\u001b[0m\n\u001b[1;32m     60\u001b[0m         \u001b[0;32mtry\u001b[0m\u001b[0;34m:\u001b[0m\u001b[0;34m\u001b[0m\u001b[0m\n\u001b[0;32m---> 61\u001b[0;31m             \u001b[0;32mreturn\u001b[0m \u001b[0mself\u001b[0m\u001b[0;34m[\u001b[0m\u001b[0mkey\u001b[0m\u001b[0;34m]\u001b[0m\u001b[0;34m\u001b[0m\u001b[0m\n\u001b[0m\u001b[1;32m     62\u001b[0m         \u001b[0;32mexcept\u001b[0m \u001b[0mKeyError\u001b[0m\u001b[0;34m:\u001b[0m\u001b[0;34m\u001b[0m\u001b[0m\n",
      "\u001b[0;31mKeyError\u001b[0m: 'shape'",
      "\nDuring handling of the above exception, another exception occurred:\n",
      "\u001b[0;31mAttributeError\u001b[0m                            Traceback (most recent call last)",
      "\u001b[0;32m<ipython-input-34-b2dd5e55de3e>\u001b[0m in \u001b[0;36m<module>\u001b[0;34m()\u001b[0m\n\u001b[1;32m      1\u001b[0m \u001b[0mdigits\u001b[0m \u001b[0;34m=\u001b[0m \u001b[0mdatasets\u001b[0m\u001b[0;34m.\u001b[0m\u001b[0mload_digits\u001b[0m\u001b[0;34m(\u001b[0m\u001b[0;34m)\u001b[0m\u001b[0;34m\u001b[0m\u001b[0m\n\u001b[0;32m----> 2\u001b[0;31m \u001b[0mdigits\u001b[0m\u001b[0;34m.\u001b[0m\u001b[0mshape\u001b[0m\u001b[0;34m(\u001b[0m\u001b[0;34m)\u001b[0m\u001b[0;34m\u001b[0m\u001b[0m\n\u001b[0m",
      "\u001b[0;32m/opt/anaconda/lib/python3.6/site-packages/sklearn/utils/__init__.py\u001b[0m in \u001b[0;36m__getattr__\u001b[0;34m(self, key)\u001b[0m\n\u001b[1;32m     61\u001b[0m             \u001b[0;32mreturn\u001b[0m \u001b[0mself\u001b[0m\u001b[0;34m[\u001b[0m\u001b[0mkey\u001b[0m\u001b[0;34m]\u001b[0m\u001b[0;34m\u001b[0m\u001b[0m\n\u001b[1;32m     62\u001b[0m         \u001b[0;32mexcept\u001b[0m \u001b[0mKeyError\u001b[0m\u001b[0;34m:\u001b[0m\u001b[0;34m\u001b[0m\u001b[0m\n\u001b[0;32m---> 63\u001b[0;31m             \u001b[0;32mraise\u001b[0m \u001b[0mAttributeError\u001b[0m\u001b[0;34m(\u001b[0m\u001b[0mkey\u001b[0m\u001b[0;34m)\u001b[0m\u001b[0;34m\u001b[0m\u001b[0m\n\u001b[0m\u001b[1;32m     64\u001b[0m \u001b[0;34m\u001b[0m\u001b[0m\n\u001b[1;32m     65\u001b[0m     \u001b[0;32mdef\u001b[0m \u001b[0m__setstate__\u001b[0m\u001b[0;34m(\u001b[0m\u001b[0mself\u001b[0m\u001b[0;34m,\u001b[0m \u001b[0mstate\u001b[0m\u001b[0;34m)\u001b[0m\u001b[0;34m:\u001b[0m\u001b[0;34m\u001b[0m\u001b[0m\n",
      "\u001b[0;31mAttributeError\u001b[0m: shape"
     ]
    }
   ],
   "source": [
    "digits = datasets.load_digits()"
   ]
  },
  {
   "cell_type": "code",
   "execution_count": 27,
   "metadata": {
    "collapsed": true
   },
   "outputs": [],
   "source": [
    "def show_digit(digit):\n",
    "    \"\"\"\n",
    "    Displays sample from MNIST in human-readable format\n",
    "    \n",
    "    Arguments:\n",
    "    digit - numpy 1-d array of size 64\n",
    "    \"\"\"\n",
    "    f = plt.figure(figsize=(7, 1))\n",
    "    ax = f.add_subplot(111)\n",
    "    ax.matshow(digit.reshape(8, 8))\n",
    "    ax.axis('off')\n",
    "    plt.show()"
   ]
  },
  {
   "cell_type": "code",
   "execution_count": 29,
   "metadata": {
    "collapsed": false
   },
   "outputs": [
    {
     "name": "stdout",
     "output_type": "stream",
     "text": [
      "x = [  0.   0.   5.  13.   9.   1.   0.   0.   0.   0.  13.  15.  10.  15.   5.\n",
      "   0.   0.   3.  15.   2.   0.  11.   8.   0.   0.   4.  12.   0.   0.   8.\n",
      "   8.   0.   0.   5.   8.   0.   0.   9.   8.   0.   0.   4.  11.   0.   1.\n",
      "  12.   7.   0.   0.   2.  14.   5.  10.  12.   0.   0.   0.   0.   6.  13.\n",
      "  10.   0.   0.   0.]\n",
      "y = 0\n"
     ]
    },
    {
     "data": {
      "image/png": "[encoded data removed]",
      "text/plain": [
       "<matplotlib.figure.Figure at 0x7f02e0b52b00>"
      ]
     },
     "metadata": {},
     "output_type": "display_data"
    },
    {
     "name": "stdout",
     "output_type": "stream",
     "text": [
      "----------------------------\n",
      "x = [  0.   0.   0.  12.  13.   5.   0.   0.   0.   0.   0.  11.  16.   9.   0.\n",
      "   0.   0.   0.   3.  15.  16.   6.   0.   0.   0.   7.  15.  16.  16.   2.\n",
      "   0.   0.   0.   0.   1.  16.  16.   3.   0.   0.   0.   0.   1.  16.  16.\n",
      "   6.   0.   0.   0.   0.   1.  16.  16.   6.   0.   0.   0.   0.   0.  11.\n",
      "  16.  10.   0.   0.]\n",
      "y = 1\n"
     ]
    },
    {
     "data": {
      "image/png": "[encoded data removed]",
      "text/plain": [
       "<matplotlib.figure.Figure at 0x7f02e60d26d8>"
      ]
     },
     "metadata": {},
     "output_type": "display_data"
    },
    {
     "name": "stdout",
     "output_type": "stream",
     "text": [
      "----------------------------\n",
      "x = [  0.   0.   0.   4.  15.  12.   0.   0.   0.   0.   3.  16.  15.  14.   0.\n",
      "   0.   0.   0.   8.  13.   8.  16.   0.   0.   0.   0.   1.   6.  15.  11.\n",
      "   0.   0.   0.   1.   8.  13.  15.   1.   0.   0.   0.   9.  16.  16.   5.\n",
      "   0.   0.   0.   0.   3.  13.  16.  16.  11.   5.   0.   0.   0.   0.   3.\n",
      "  11.  16.   9.   0.]\n",
      "y = 2\n"
     ]
    },
    {
     "data": {
      "image/png": "[encoded data removed]",
      "text/plain": [
       "<matplotlib.figure.Figure at 0x7f02e0da0e80>"
      ]
     },
     "metadata": {},
     "output_type": "display_data"
    },
    {
     "name": "stdout",
     "output_type": "stream",
     "text": [
      "----------------------------\n",
      "x = [  0.   0.   7.  15.  13.   1.   0.   0.   0.   8.  13.   6.  15.   4.   0.\n",
      "   0.   0.   2.   1.  13.  13.   0.   0.   0.   0.   0.   2.  15.  11.   1.\n",
      "   0.   0.   0.   0.   0.   1.  12.  12.   1.   0.   0.   0.   0.   0.   1.\n",
      "  10.   8.   0.   0.   0.   8.   4.   5.  14.   9.   0.   0.   0.   7.  13.\n",
      "  13.   9.   0.   0.]\n",
      "y = 3\n"
     ]
    },
    {
     "data": {
      "image/png": "[encoded data removed]",
      "text/plain": [
       "<matplotlib.figure.Figure at 0x7f02e0d1ee80>"
      ]
     },
     "metadata": {},
     "output_type": "display_data"
    },
    {
     "name": "stdout",
     "output_type": "stream",
     "text": [
      "----------------------------\n",
      "x = [  0.   0.   0.   1.  11.   0.   0.   0.   0.   0.   0.   7.   8.   0.   0.\n",
      "   0.   0.   0.   1.  13.   6.   2.   2.   0.   0.   0.   7.  15.   0.   9.\n",
      "   8.   0.   0.   5.  16.  10.   0.  16.   6.   0.   0.   4.  15.  16.  13.\n",
      "  16.   1.   0.   0.   0.   0.   3.  15.  10.   0.   0.   0.   0.   0.   2.\n",
      "  16.   4.   0.   0.]\n",
      "y = 4\n"
     ]
    },
    {
     "data": {
      "image/png": "[encoded data removed]",
      "text/plain": [
       "<matplotlib.figure.Figure at 0x7f02e0c07668>"
      ]
     },
     "metadata": {},
     "output_type": "display_data"
    },
    {
     "name": "stdout",
     "output_type": "stream",
     "text": [
      "----------------------------\n"
     ]
    }
   ],
   "source": [
    "for i in range(5):\n",
    "    print('x =', digits.data[i])\n",
    "    print('y =', digits.target[ i])\n",
    "    show_digit(digits.data[i])\n",
    "    print('----------------------------')"
   ]
  },
  {
   "cell_type": "markdown",
   "metadata": {},
   "source": [
    "Разделение выборки на train и test"
   ]
  },
  {
   "cell_type": "code",
   "execution_count": 6,
   "metadata": {
    "collapsed": false
   },
   "outputs": [
    {
     "name": "stdout",
     "output_type": "stream",
     "text": [
      "X_train: (1437, 64)\n",
      "X_test: (360, 64)\n",
      "y_train: (1437,)\n",
      "y_test: (360,)\n"
     ]
    }
   ],
   "source": [
    "from sklearn.model_selection import train_test_split\n",
    "X_train, X_test, y_train, y_test = train_test_split(digits.data, digits.target, test_size=0.2)\n",
    "print('X_train:', X_train.shape)\n",
    "print('X_test:', X_test.shape)\n",
    "print('y_train:', y_train.shape)\n",
    "print('y_test:', y_test.shape)"
   ]
  },
  {
   "cell_type": "markdown",
   "metadata": {},
   "source": [
    " ### Линейная регрессия\n",
    "  <img src=\"./data/Regression_Analysis_Linear.gif\" alt=\"Drawing\" style=\"height: 300px;\"/>\n",
    "  Данные аппроксимируются линией таким образом, чтобы среднее расстояние от точки до линии было наименьшим.  \n",
    "  Почитать ещё: https://habrahabr.ru/company/ods/blog/323890/"
   ]
  },
  {
   "cell_type": "code",
   "execution_count": 31,
   "metadata": {
    "collapsed": false,
    "scrolled": true
   },
   "outputs": [
    {
     "name": "stdout",
     "output_type": "stream",
     "text": [
      "[  4.01101362   0.40593771   6.85628867   2.07654534   3.32671654\n",
      "   1.09856124   2.7469411    0.82854697   1.7513117    9.01714547\n",
      "   3.69747397   3.42874933   3.73434332   5.26907163   3.75840982\n",
      "   7.39717109   3.11263432   5.85365896   5.94437226   5.92567463\n",
      "   5.6226013    7.22237371   3.80946179   8.33286216   7.67182093\n",
      "   4.4004556    2.22059865   1.50368357   5.91409471   6.61211106\n",
      "   3.67637116   3.5606335    4.14767893   4.7546223    8.40394501\n",
      "   3.86921005   3.14370057   4.813783     7.18402944   2.59233841\n",
      "   6.74259406   6.60982438   6.5114703    5.33016654   7.02904956\n",
      "   5.37503236   6.31212088   4.2866927    6.84404549   3.10945602\n",
      "   3.62395893   2.41457396   6.76142763   4.3685761    1.22327914\n",
      "   5.81478749   6.27446713   4.86590459   3.10274756   2.86335288\n",
      "   4.10507378   9.11817716   8.25519343   6.11816185   3.15311422\n",
      "   0.42797152   5.09256562   3.54580042   6.59539076   2.88934834\n",
      "   4.54344769   5.68320236   3.5518989    1.90556499  10.36208953\n",
      "   7.39715303   5.31661585   2.74439462   4.14081242   6.01537994\n",
      "   6.90118448   4.39237066   3.56406682   2.96516013   6.50892727\n",
      "   5.04453133   4.89716373   5.62490967   5.20853724   4.3521848\n",
      "   5.60321018   6.55695252   8.23154226   9.0444781    3.09280225\n",
      "   1.27792206   2.67805284   4.42700778   2.16500578   4.32042678\n",
      "   4.64957975   3.55849182   8.40748744   1.87219159   4.3484198\n",
      "   3.23287518   4.63093012   6.36429234   7.89054689   3.26967212\n",
      "   3.5950427    2.18054113   7.18222487   2.62390827   7.32820811\n",
      "   0.27123675   3.01857111   1.34571215   5.23575705   5.59737254\n",
      "   1.69192431   8.37671598   6.94512102   7.74441717   3.77617061\n",
      "   6.60026468   3.60776452   3.80323167   2.37110518   6.20675821\n",
      "   7.32715746   2.7655779    4.24396033   2.60040467   0.68220332\n",
      "   1.9630738    4.52667532   8.21073153   4.75003714   6.19972497\n",
      "   4.6685528    6.52302239   7.25126539   6.49967754   8.64288753\n",
      "   3.41223121   6.98402185   8.46830103   3.35919691   3.28168513\n",
      "   3.58597375   6.81109135   2.94906989   3.41452937   6.33761671\n",
      "   4.81425521   5.23335927   6.15906597   4.97217269   8.95037872\n",
      "   4.29753332   4.67024782   6.76429959   2.9389559    1.54834084\n",
      "  -0.10939128   4.30288615   3.62055373   6.05740864   5.24753189\n",
      "  -0.29520958   2.32747397   5.88194253   2.86925965   2.14892061\n",
      "   2.55185079   0.95131641   2.06785173   4.20033508   4.75297299\n",
      "   5.5781446    8.6153005    4.26828898   4.58276094   2.06921951\n",
      "   4.57943165   5.41332103   4.50938386   2.33165223   4.20038084\n",
      "   4.95927051   5.05532342   5.62450757   2.15116214   2.31601701\n",
      "   3.31156184   0.71460667   3.42350301   2.09137193   5.89018595\n",
      "   4.52205102   4.61351386   3.46843617   0.62735675   3.66345383\n",
      "   6.85291683   4.93158142   7.35479885   7.35936352   1.79009034\n",
      "  -0.8020248    4.80081991   4.27810089   4.34235225   4.276394\n",
      "   3.86464814   4.84086025   3.83929098   6.80854037   5.95497342\n",
      "   4.00134059   7.85814847   5.5030378    7.64101013   4.71622199\n",
      "   3.66567511   5.10904007   3.15083362   5.86989153   5.15515888\n",
      "   5.14975817   4.06573623   6.67836448   4.12293666   6.56880659\n",
      "   2.44908959   3.47975742   8.87046912   2.32565668   2.98736421\n",
      "   2.93786648   6.13076506   5.12128677   4.2684961    1.84735576\n",
      "   0.09726627   5.66285736   4.34697721   6.57272849   7.85413274\n",
      "   5.67794519   4.34013393   5.49368643   3.33870563   5.9917417\n",
      "   3.25306259   3.93786777   7.11671804   4.54895401   5.66241301\n",
      "   5.4132069    2.88571643   1.6574383    6.02437314   4.69982541\n",
      "   4.78142511   5.93999393   7.14030439   6.07331575   6.60821511\n",
      "   4.92655903   6.36349857   5.25655899   3.6987608    5.7878454\n",
      "   4.39409873   2.01169943   3.76020347   4.16687428   2.35224316\n",
      "   6.78018795   2.80467399   1.84377288   4.65669972   0.3104577\n",
      "   4.99384596   3.38833684   1.99882868   3.70806503   3.78830921\n",
      "   7.64067878   6.20921852   6.76050725   5.59077398   4.94073769\n",
      "   5.45288472   0.65761441   5.93042656   3.92334876   1.78007576\n",
      "   1.81297664   8.01831834   6.69437646   5.49028964   5.13310642\n",
      "   4.69402153   7.83369333   4.2928977    3.46390018   1.66474641\n",
      "   6.79953004   1.52162027   5.14317102   3.4634512    6.88423071\n",
      "   5.03323792   7.51949807   5.61270949   5.77516905   2.50647483\n",
      "   3.58103139   8.09542978   4.96321427   2.80470051   6.11286127\n",
      "   7.05563078   0.93801886   5.91096133   7.70867756   2.45747644\n",
      "   3.35682103   2.95902315   7.90578752   6.7870446    4.75260133\n",
      "   5.77076083   2.85216665   3.82296925   2.34180451   6.12702638\n",
      "   3.89636311   3.03708537   6.15900892   7.03063589   4.44015345\n",
      "   1.27686363   6.08635337   2.10081415   7.53396499   5.9279422\n",
      "   1.63295304   6.48619002   5.83912619   5.16294321   6.03107858\n",
      "   3.05350789   6.28182194   4.14483435   3.36515037   5.85983409]\n"
     ]
    }
   ],
   "source": [
    "from sklearn.linear_model import LinearRegression\n",
    "predictor = LinearRegression()\n",
    "predictor.fit(X_train, y_train)\n",
    "y_pred = predictor.predict(X_test)\n",
    "print(y_pred)"
   ]
  },
  {
   "cell_type": "markdown",
   "metadata": {},
   "source": [
    "Оцениваем, насколько хороши предсказания"
   ]
  },
  {
   "cell_type": "code",
   "execution_count": 32,
   "metadata": {
    "collapsed": false
   },
   "outputs": [
    {
     "data": {
      "text/plain": [
       "0.19722222222222222"
      ]
     },
     "execution_count": 32,
     "metadata": {},
     "output_type": "execute_result"
    }
   ],
   "source": [
    "from sklearn.metrics import accuracy_score\n",
    "y_pred = np.round(y_pred)\n",
    "accuracy_score(y_test, y_pred)"
   ]
  },
  {
   "cell_type": "markdown",
   "metadata": {},
   "source": [
    "Посмотрим пример, где предсказано правильно, и где неправильно"
   ]
  },
  {
   "cell_type": "code",
   "execution_count": 9,
   "metadata": {
    "collapsed": false
   },
   "outputs": [
    {
     "name": "stdout",
     "output_type": "stream",
     "text": [
      "true: 7\n",
      "predicted: 7.0\n"
     ]
    },
    {
     "data": {
      "image/png": "[encoded data removed]",
      "text/plain": [
       "<matplotlib.figure.Figure at 0x7f02e388dac8>"
      ]
     },
     "metadata": {},
     "output_type": "display_data"
    },
    {
     "name": "stdout",
     "output_type": "stream",
     "text": [
      "true: 7\n",
      "predicted: 4.0\n"
     ]
    },
    {
     "data": {
      "image/png": "[encoded data removed]",
      "text/plain": [
       "<matplotlib.figure.Figure at 0x7f02e5f471d0>"
      ]
     },
     "metadata": {},
     "output_type": "display_data"
    }
   ],
   "source": [
    "true_sample = X_test[y_test == y_pred][0]\n",
    "print('true:', y_test[y_test == y_pred][0])\n",
    "print('predicted:', y_pred[y_test == y_pred][0])\n",
    "show_digit(true_sample)\n",
    "\n",
    "false_sample = X_test[y_test != y_pred][0]\n",
    "print('true:', y_test[y_test != y_pred][0])\n",
    "print('predicted:', y_pred[y_test != y_pred][0])\n",
    "show_digit(false_sample)"
   ]
  },
  {
   "cell_type": "markdown",
   "metadata": {},
   "source": [
    " ### Логистическая регрессия\n",
    "  <img src=\"./data/LogReg.png\" alt=\"Drawing\" style=\"height: 300px;\"/>\n",
    "  То же самое, что и линейная регрессия, но аппроксимация ведётся не линией $y = \\theta_0 + \\theta_1x_1 + ... + \\theta_nx_n$, а функцией $$y = \\frac{1}{1+e^{-z}}$$ Где $z = \\theta_0 + \\theta_1x_1 + ... + \\theta_nx_n$"
   ]
  },
  {
   "cell_type": "code",
   "execution_count": 35,
   "metadata": {
    "collapsed": false
   },
   "outputs": [
    {
     "name": "stdout",
     "output_type": "stream",
     "text": [
      "[7 1 6 0 2 0 4 0 3 8 9 6 1 6 3 8 4 7 9 8 7 7 4 9 6 9 6 0 7 9 2 3 3 5 9 1 4\n",
      " 1 6 2 5 7 5 3 7 8 7 6 9 2 3 4 9 4 2 7 6 5 1 4 6 8 8 7 2 2 3 1 7 3 6 4 0 1\n",
      " 8 5 1 1 4 7 3 6 1 4 6 5 3 6 7 3 8 7 9 8 1 0 4 3 2 3 5 0 8 4 4 0 4 7 9 3 9\n",
      " 2 3 0 8 0 2 0 8 5 2 7 8 7 3 7 5 9 0 7 7 2 1 4 2 1 5 7 1 7 7 7 9 6 9 4 8 4\n",
      " 4 0 4 8 4 2 3 9 1 5 5 8 3 3 9 0 2 0 8 1 6 6 2 2 9 2 1 2 0 2 3 5 4 9 5 3 1\n",
      " 6 5 6 8 6 6 3 9 2 3 0 1 1 0 3 6 3 2 0 6 6 8 9 9 0 0 7 6 5 5 2 6 4 5 3 6 3\n",
      " 4 7 5 6 6 1 9 5 8 5 5 4 8 0 1 9 5 3 1 4 5 6 0 2 8 5 9 7 2 6 5 6 4 2 4 8 4\n",
      " 9 5 1 1 8 4 3 5 9 9 7 8 9 3 3 5 2 0 4 5 0 9 0 2 4 0 6 4 0 0 6 7 9 8 6 6 6\n",
      " 0 5 5 4 4 8 7 3 3 1 1 6 0 0 8 0 4 3 7 4 7 7 4 2 2 9 9 1 7 7 2 3 7 4 3 1 9\n",
      " 9 3 6 1 4 1 6 1 4 4 7 4 1 6 2 7 5 2 9 3 9 8 1 7 3 1 3]\n"
     ]
    }
   ],
   "source": [
    "from sklearn.linear_model import LogisticRegression\n",
    "predictor = LogisticRegression()\n",
    "predictor.fit(X_train, y_train)\n",
    "y_pred = predictor.predict(X_test)\n",
    "print(y_pred)"
   ]
  },
  {
   "cell_type": "code",
   "execution_count": 36,
   "metadata": {
    "collapsed": false
   },
   "outputs": [
    {
     "data": {
      "text/plain": [
       "0.97777777777777775"
      ]
     },
     "execution_count": 36,
     "metadata": {},
     "output_type": "execute_result"
    }
   ],
   "source": [
    "accuracy_score(y_test, y_pred)"
   ]
  },
  {
   "cell_type": "code",
   "execution_count": 12,
   "metadata": {
    "collapsed": false
   },
   "outputs": [
    {
     "name": "stdout",
     "output_type": "stream",
     "text": [
      "true: 7\n",
      "predicted: 7\n"
     ]
    },
    {
     "data": {
      "image/png": "[encoded data removed]",
      "text/plain": [
       "<matplotlib.figure.Figure at 0x7f02e60a81d0>"
      ]
     },
     "metadata": {},
     "output_type": "display_data"
    },
    {
     "name": "stdout",
     "output_type": "stream",
     "text": [
      "true: 5\n",
      "predicted: 9\n"
     ]
    },
    {
     "data": {
      "image/png": "[encoded data removed]",
      "text/plain": [
       "<matplotlib.figure.Figure at 0x7f02e60b0c50>"
      ]
     },
     "metadata": {},
     "output_type": "display_data"
    }
   ],
   "source": [
    "true_sample = X_test[y_test == y_pred][0]\n",
    "print('true:', y_test[y_test == y_pred][0])\n",
    "print('predicted:', y_pred[y_test == y_pred][0])\n",
    "show_digit(true_sample)\n",
    "\n",
    "false_sample = X_test[y_test != y_pred][0]\n",
    "print('true:', y_test[y_test != y_pred][0])\n",
    "print('predicted:', y_pred[y_test != y_pred][0])\n",
    "show_digit(false_sample)"
   ]
  },
  {
   "cell_type": "markdown",
   "metadata": {},
   "source": [
    " ### k-nearest-neighbors classifier\n",
    " <img src=\"./data/knn_classifier.png\" alt=\"Drawing\" style=\"width: 300px;\"/>\n",
    " Для заданной точки алгоритм ищет k ближайших к ней соседей из обучающей выборки, и возвращает класс, который встречался среди этих k точек чаще остальных.  \n",
    " Почитать ещё: https://kevinzakka.github.io/2016/07/13/k-nearest-neighbor/"
   ]
  },
  {
   "cell_type": "code",
   "execution_count": 37,
   "metadata": {
    "collapsed": true
   },
   "outputs": [],
   "source": [
    "from sklearn.neighbors import KNeighborsClassifier\n",
    "predictor = KNeighborsClassifier(n_neighbors=4)\n",
    "predictor.fit(X_train, y_train)\n",
    "y_pred = predictor.predict(X_test)"
   ]
  },
  {
   "cell_type": "code",
   "execution_count": 38,
   "metadata": {
    "collapsed": false
   },
   "outputs": [
    {
     "data": {
      "text/plain": [
       "0.98888888888888893"
      ]
     },
     "execution_count": 38,
     "metadata": {},
     "output_type": "execute_result"
    }
   ],
   "source": [
    "accuracy_score(y_test, y_pred)"
   ]
  },
  {
   "cell_type": "code",
   "execution_count": 39,
   "metadata": {
    "collapsed": false
   },
   "outputs": [
    {
     "name": "stdout",
     "output_type": "stream",
     "text": [
      "true: 7\n",
      "predicted: 7\n"
     ]
    },
    {
     "data": {
      "image/png": "[encoded data removed]",
      "text/plain": [
       "<matplotlib.figure.Figure at 0x7f02e0879438>"
      ]
     },
     "metadata": {},
     "output_type": "display_data"
    },
    {
     "name": "stdout",
     "output_type": "stream",
     "text": [
      "true: 5\n",
      "predicted: 9\n"
     ]
    },
    {
     "data": {
      "image/png": "[encoded data removed]",
      "text/plain": [
       "<matplotlib.figure.Figure at 0x7f02e0dc37b8>"
      ]
     },
     "metadata": {},
     "output_type": "display_data"
    }
   ],
   "source": [
    "true_sample = X_test[y_test == y_pred][0]\n",
    "print('true:', y_test[y_test == y_pred][0])\n",
    "print('predicted:', y_pred[y_test == y_pred][0])\n",
    "show_digit(true_sample)\n",
    "\n",
    "false_sample = X_test[y_test != y_pred][0]\n",
    "print('true:', y_test[y_test != y_pred][0])\n",
    "print('predicted:', y_pred[y_test != y_pred][0])\n",
    "show_digit(false_sample)"
   ]
  },
  {
   "cell_type": "markdown",
   "metadata": {},
   "source": [
    " ### Нейронная сеть\n",
    "  ![LR](./data/220px-Neural_network.svg.png)\n",
    "  Несколько линейных регрессий, объединённых в сеть.  \n",
    "  Почитать ещё: https://ujjwalkarn.me/2016/08/09/quick-intro-neural-networks/"
   ]
  },
  {
   "cell_type": "code",
   "execution_count": 16,
   "metadata": {
    "collapsed": true
   },
   "outputs": [],
   "source": [
    "from sklearn.neural_network import MLPClassifier \n",
    "predictor = MLPClassifier()\n",
    "predictor.fit(X_train, y_train)\n",
    "y_pred = predictor.predict(X_test)"
   ]
  },
  {
   "cell_type": "code",
   "execution_count": 17,
   "metadata": {
    "collapsed": false
   },
   "outputs": [
    {
     "data": {
      "text/plain": [
       "0.97499999999999998"
      ]
     },
     "execution_count": 17,
     "metadata": {},
     "output_type": "execute_result"
    }
   ],
   "source": [
    "accuracy_score(y_test, y_pred)"
   ]
  },
  {
   "cell_type": "code",
   "execution_count": 18,
   "metadata": {
    "collapsed": false
   },
   "outputs": [
    {
     "name": "stdout",
     "output_type": "stream",
     "text": [
      "true: 7\n",
      "predicted: 7\n"
     ]
    },
    {
     "data": {
      "image/png": "[encoded data removed]",
      "text/plain": [
       "<matplotlib.figure.Figure at 0x7f02e6144940>"
      ]
     },
     "metadata": {},
     "output_type": "display_data"
    },
    {
     "name": "stdout",
     "output_type": "stream",
     "text": [
      "true: 5\n",
      "predicted: 9\n"
     ]
    },
    {
     "data": {
      "image/png": "[encoded data removed]",
      "text/plain": [
       "<matplotlib.figure.Figure at 0x7f02e0ca7f28>"
      ]
     },
     "metadata": {},
     "output_type": "display_data"
    }
   ],
   "source": [
    "true_sample = X_test[y_test == y_pred][0]\n",
    "print('true:', y_test[y_test == y_pred][0])\n",
    "print('predicted:', y_pred[y_test == y_pred][0])\n",
    "show_digit(true_sample)\n",
    "\n",
    "false_sample = X_test[y_test != y_pred][0]\n",
    "print('true:', y_test[y_test != y_pred][0])\n",
    "print('predicted:', y_pred[y_test != y_pred][0])\n",
    "show_digit(false_sample)"
   ]
  },
  {
   "cell_type": "markdown",
   "metadata": {},
   "source": [
    "### Деревья\n",
    "<img src=\"./data/F3.large.jpg\" alt=\"Drawing\" style=\"width: 500px;\"/>\n",
    "С помощью статистических методов строится дерево решений (или несколько деревьев). Каждый раз при предсказывании алгоритм проходит дерево от корня до одного из листов и возвращает класс, соответствующий листу.  \n",
    "Почитать ещё: https://sadanand-singh.github.io/posts/treebasedmodels/"
   ]
  },
  {
   "cell_type": "code",
   "execution_count": 40,
   "metadata": {
    "collapsed": true
   },
   "outputs": [],
   "source": [
    "from sklearn.ensemble import GradientBoostingClassifier\n",
    "predictor = GradientBoostingClassifier(n_estimators=5)\n",
    "predictor.fit(X_train, y_train)\n",
    "y_pred = predictor.predict(X_test)"
   ]
  },
  {
   "cell_type": "code",
   "execution_count": 41,
   "metadata": {
    "collapsed": false
   },
   "outputs": [
    {
     "data": {
      "text/plain": [
       "0.86944444444444446"
      ]
     },
     "execution_count": 41,
     "metadata": {},
     "output_type": "execute_result"
    }
   ],
   "source": [
    "accuracy_score(y_test, y_pred)"
   ]
  },
  {
   "cell_type": "code",
   "execution_count": 47,
   "metadata": {
    "collapsed": false
   },
   "outputs": [
    {
     "name": "stdout",
     "output_type": "stream",
     "text": [
      "true: 7\n",
      "predicted: 7\n"
     ]
    },
    {
     "data": {
      "image/png": "[encoded data removed]",
      "text/plain": [
       "<matplotlib.figure.Figure at 0x7f02e0cf52e8>"
      ]
     },
     "metadata": {},
     "output_type": "display_data"
    },
    {
     "name": "stdout",
     "output_type": "stream",
     "text": [
      "true: 5\n",
      "predicted: 1\n"
     ]
    },
    {
     "data": {
      "image/png": "[encoded data removed]",
      "text/plain": [
       "<matplotlib.figure.Figure at 0x7f02e08a36a0>"
      ]
     },
     "metadata": {},
     "output_type": "display_data"
    }
   ],
   "source": [
    "true_sample = X_test[y_test == y_pred][0]\n",
    "print('true:', y_test[y_test == y_pred][0])\n",
    "print('predicted:', y_pred[y_test == y_pred][0])\n",
    "show_digit(true_sample)\n",
    "\n",
    "false_sample = X_test[y_test != y_pred][0]\n",
    "print('true:', y_test[y_test != y_pred][0])\n",
    "print('predicted:', y_pred[y_test != y_pred][0])\n",
    "show_digit(false_sample)"
   ]
  },
  {
   "cell_type": "markdown",
   "metadata": {},
   "source": [
    "### Кластеризация (KMeans)\n",
    "  <img src=\"./data/kmeans.png\" alt=\"Drawing\" style=\"height: 300px;\"/>\n",
    " Алгоритм ищет K центров кластеров и относит каждую точку к тому кластеру, которому соответствует ближайший из центров.  \n",
    " При этом центры выбираются таким образом, чтобы сумма расстояний от точки до центра соответствующего ей кластера была минимальной\n",
    " Почитать ещё: https://www.datascience.com/blog/introduction-to-k-means-clustering-algorithm-learn-data-science-tutorials"
   ]
  },
  {
   "cell_type": "code",
   "execution_count": 51,
   "metadata": {
    "collapsed": true
   },
   "outputs": [],
   "source": [
    "from sklearn.cluster import KMeans\n",
    "clusterer = KMeans(n_clusters=10)\n",
    "classes = clusterer.fit_predict(digits.data)"
   ]
  },
  {
   "cell_type": "code",
   "execution_count": 52,
   "metadata": {
    "collapsed": false,
    "scrolled": true
   },
   "outputs": [
    {
     "data": {
      "image/png": "[encoded data removed]",
      "text/plain": [
       "<matplotlib.figure.Figure at 0x7f02e0ae3e10>"
      ]
     },
     "metadata": {},
     "output_type": "display_data"
    },
    {
     "data": {
      "image/png": "[encoded data removed]",
      "text/plain": [
       "<matplotlib.figure.Figure at 0x7f02e0a05860>"
      ]
     },
     "metadata": {},
     "output_type": "display_data"
    },
    {
     "data": {
      "image/png": "[encoded data removed]",
      "text/plain": [
       "<matplotlib.figure.Figure at 0x7f02e60fb5f8>"
      ]
     },
     "metadata": {},
     "output_type": "display_data"
    },
    {
     "data": {
      "image/png": "[encoded data removed]",
      "text/plain": [
       "<matplotlib.figure.Figure at 0x7f02e60219e8>"
      ]
     },
     "metadata": {},
     "output_type": "display_data"
    },
    {
     "data": {
      "image/png": "[encoded data removed]",
      "text/plain": [
       "<matplotlib.figure.Figure at 0x7f02e61d1a20>"
      ]
     },
     "metadata": {},
     "output_type": "display_data"
    },
    {
     "data": {
      "image/png": "[encoded data removed]",
      "text/plain": [
       "<matplotlib.figure.Figure at 0x7f02e603d668>"
      ]
     },
     "metadata": {},
     "output_type": "display_data"
    },
    {
     "data": {
      "image/png": "[encoded data removed]",
      "text/plain": [
       "<matplotlib.figure.Figure at 0x7f02e612ee10>"
      ]
     },
     "metadata": {},
     "output_type": "display_data"
    },
    {
     "data": {
      "image/png": "[encoded data removed]",
      "text/plain": [
       "<matplotlib.figure.Figure at 0x7f02e0cba630>"
      ]
     },
     "metadata": {},
     "output_type": "display_data"
    },
    {
     "data": {
      "image/png": "[encoded data removed]",
      "text/plain": [
       "<matplotlib.figure.Figure at 0x7f02e0d5a128>"
      ]
     },
     "metadata": {},
     "output_type": "display_data"
    },
    {
     "data": {
      "image/png": "[encoded data removed]",
      "text/plain": [
       "<matplotlib.figure.Figure at 0x7f02e00b1710>"
      ]
     },
     "metadata": {},
     "output_type": "display_data"
    }
   ],
   "source": [
    "for i in np.unique(classes):\n",
    "    f, axs = plt.subplots(1, 5, sharey=True, figsize=(7, 1))\n",
    "    for i,sample in enumerate(digits.data[classes == i][:5]):\n",
    "        axs[i].matshow(sample.reshape((8, 8)))\n",
    "        axs[i].axis('off')\n",
    "    plt.show()"
   ]
  },
  {
   "cell_type": "markdown",
   "metadata": {},
   "source": [
    "Отрисуем центры кластеров"
   ]
  },
  {
   "cell_type": "code",
   "execution_count": 54,
   "metadata": {
    "collapsed": false,
    "scrolled": true
   },
   "outputs": [
    {
     "data": {
      "image/png": "[encoded data removed]",
      "text/plain": [
       "<matplotlib.figure.Figure at 0x7f02e0cb6b00>"
      ]
     },
     "metadata": {},
     "output_type": "display_data"
    },
    {
     "data": {
      "image/png": "[encoded data removed]",
      "text/plain": [
       "<matplotlib.figure.Figure at 0x7f02e08b4780>"
      ]
     },
     "metadata": {},
     "output_type": "display_data"
    },
    {
     "data": {
      "image/png": "[encoded data removed]",
      "text/plain": [
       "<matplotlib.figure.Figure at 0x7f02e01bf780>"
      ]
     },
     "metadata": {},
     "output_type": "display_data"
    },
    {
     "data": {
      "image/png": "[encoded data removed]",
      "text/plain": [
       "<matplotlib.figure.Figure at 0x7f02e0881be0>"
      ]
     },
     "metadata": {},
     "output_type": "display_data"
    },
    {
     "data": {
      "image/png": "[encoded data removed]",
      "text/plain": [
       "<matplotlib.figure.Figure at 0x7f02d9dbad30>"
      ]
     },
     "metadata": {},
     "output_type": "display_data"
    },
    {
     "data": {
      "image/png": "[encoded data removed]",
      "text/plain": [
       "<matplotlib.figure.Figure at 0x7f02d9f0d8d0>"
      ]
     },
     "metadata": {},
     "output_type": "display_data"
    },
    {
     "data": {
      "image/png": "[encoded data removed]",
      "text/plain": [
       "<matplotlib.figure.Figure at 0x7f02e0c27a20>"
      ]
     },
     "metadata": {},
     "output_type": "display_data"
    },
    {
     "data": {
      "image/png": "[encoded data removed]",
      "text/plain": [
       "<matplotlib.figure.Figure at 0x7f02e09de048>"
      ]
     },
     "metadata": {},
     "output_type": "display_data"
    },
    {
     "data": {
      "image/png": "[encoded data removed]",
      "text/plain": [
       "<matplotlib.figure.Figure at 0x7f02e00fe198>"
      ]
     },
     "metadata": {},
     "output_type": "display_data"
    },
    {
     "data": {
      "image/png": "[encoded data removed]",
      "text/plain": [
       "<matplotlib.figure.Figure at 0x7f02e09d5c88>"
      ]
     },
     "metadata": {},
     "output_type": "display_data"
    }
   ],
   "source": [
    "for center in clusterer.cluster_centers_:\n",
    "    f = plt.figure(figsize=(7, 1))\n",
    "    ax = f.add_subplot(111)\n",
    "    ax.matshow(center.reshape(8, 8))\n",
    "    ax.axis('off')\n",
    "    plt.show()"
   ]
  },
  {
   "cell_type": "code",
   "execution_count": null,
   "metadata": {
    "collapsed": true
   },
   "outputs": [],
   "source": []
  }
 ],
 "metadata": {
  "kernelspec": {
   "display_name": "Python 3",
   "language": "python",
   "name": "python3"
  },
  "language_info": {
   "codemirror_mode": {
    "name": "ipython",
    "version": 3
   },
   "file_extension": ".py",
   "mimetype": "text/x-python",
   "name": "python",
   "nbconvert_exporter": "python",
   "pygments_lexer": "ipython3",
   "version": "3.6.0"
  },
  "toc": {
   "nav_menu": {},
   "number_sections": true,
   "sideBar": true,
   "skip_h1_title": false,
   "toc_cell": false,
   "toc_position": {},
   "toc_section_display": "block",
   "toc_window_display": false
  },
  "varInspector": {
   "cols": {
    "lenName": 16,
    "lenType": 16,
    "lenVar": 40
   },
   "kernels_config": {
    "python": {
     "delete_cmd_postfix": "",
     "delete_cmd_prefix": "del ",
     "library": "var_list.py",
     "varRefreshCmd": "print(var_dic_list())"
    },
    "r": {
     "delete_cmd_postfix": ") ",
     "delete_cmd_prefix": "rm(",
     "library": "var_list.r",
     "varRefreshCmd": "cat(var_dic_list()) "
    }
   },
   "types_to_exclude": [
    "module",
    "function",
    "builtin_function_or_method",
    "instance",
    "_Feature"
   ],
   "window_display": false
  }
 },
 "nbformat": 4,
 "nbformat_minor": 2
}
